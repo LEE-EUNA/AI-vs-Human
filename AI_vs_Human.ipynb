{
  "cells": [
    {
      "cell_type": "markdown",
      "metadata": {
        "id": "view-in-github",
        "colab_type": "text"
      },
      "source": [
        "<a href=\"https://colab.research.google.com/github/Two-Silver/AI-vs-Human/blob/main/AI_vs_Human.ipynb\" target=\"_parent\"><img src=\"https://colab.research.google.com/assets/colab-badge.svg\" alt=\"Open In Colab\"/></a>"
      ]
    },
    {
      "cell_type": "markdown",
      "source": [
        "# 데이터 로드\n",
        "\n"
      ],
      "metadata": {
        "id": "dII6YFWobsCK"
      }
    },
    {
      "cell_type": "code",
      "execution_count": null,
      "metadata": {
        "colab": {
          "base_uri": "https://localhost:8080/"
        },
        "id": "VVAzLEuRjMEA",
        "outputId": "6db53407-b607-4064-eb63-7242f0b49762"
      },
      "outputs": [
        {
          "output_type": "stream",
          "name": "stdout",
          "text": [
            "Mounted at /content/gdrive\n"
          ]
        }
      ],
      "source": [
        "import numpy as np # linear algebra\n",
        "import pandas as pd # data processing, CSV file I/O (e.g. pd.read_csv)\n",
        "from google.colab import drive\n",
        "\n",
        "drive.mount('/content/gdrive')"
      ]
    },
    {
      "cell_type": "code",
      "execution_count": null,
      "metadata": {
        "colab": {
          "base_uri": "https://localhost:8080/",
          "height": 225
        },
        "id": "3veA5Y2YjMEB",
        "outputId": "2a84dc32-6e55-4b7d-a013-490a047cd072"
      },
      "outputs": [
        {
          "output_type": "stream",
          "name": "stdout",
          "text": [
            "(487235, 2)\n"
          ]
        },
        {
          "output_type": "execute_result",
          "data": {
            "text/plain": [
              "                                                text  generated\n",
              "0  Cars. Cars have been around since they became ...        0.0\n",
              "1  Transportation is a large necessity in most co...        0.0\n",
              "2  \"America's love affair with it's vehicles seem...        0.0\n",
              "3  How often do you ride in a car? Do you drive a...        0.0\n",
              "4  Cars are a wonderful thing. They are perhaps o...        0.0"
            ],
            "text/html": [
              "\n",
              "  <div id=\"df-e89b1439-9d77-49ab-8b10-55ce9b4cc31c\" class=\"colab-df-container\">\n",
              "    <div>\n",
              "<style scoped>\n",
              "    .dataframe tbody tr th:only-of-type {\n",
              "        vertical-align: middle;\n",
              "    }\n",
              "\n",
              "    .dataframe tbody tr th {\n",
              "        vertical-align: top;\n",
              "    }\n",
              "\n",
              "    .dataframe thead th {\n",
              "        text-align: right;\n",
              "    }\n",
              "</style>\n",
              "<table border=\"1\" class=\"dataframe\">\n",
              "  <thead>\n",
              "    <tr style=\"text-align: right;\">\n",
              "      <th></th>\n",
              "      <th>text</th>\n",
              "      <th>generated</th>\n",
              "    </tr>\n",
              "  </thead>\n",
              "  <tbody>\n",
              "    <tr>\n",
              "      <th>0</th>\n",
              "      <td>Cars. Cars have been around since they became ...</td>\n",
              "      <td>0.0</td>\n",
              "    </tr>\n",
              "    <tr>\n",
              "      <th>1</th>\n",
              "      <td>Transportation is a large necessity in most co...</td>\n",
              "      <td>0.0</td>\n",
              "    </tr>\n",
              "    <tr>\n",
              "      <th>2</th>\n",
              "      <td>\"America's love affair with it's vehicles seem...</td>\n",
              "      <td>0.0</td>\n",
              "    </tr>\n",
              "    <tr>\n",
              "      <th>3</th>\n",
              "      <td>How often do you ride in a car? Do you drive a...</td>\n",
              "      <td>0.0</td>\n",
              "    </tr>\n",
              "    <tr>\n",
              "      <th>4</th>\n",
              "      <td>Cars are a wonderful thing. They are perhaps o...</td>\n",
              "      <td>0.0</td>\n",
              "    </tr>\n",
              "  </tbody>\n",
              "</table>\n",
              "</div>\n",
              "    <div class=\"colab-df-buttons\">\n",
              "\n",
              "  <div class=\"colab-df-container\">\n",
              "    <button class=\"colab-df-convert\" onclick=\"convertToInteractive('df-e89b1439-9d77-49ab-8b10-55ce9b4cc31c')\"\n",
              "            title=\"Convert this dataframe to an interactive table.\"\n",
              "            style=\"display:none;\">\n",
              "\n",
              "  <svg xmlns=\"http://www.w3.org/2000/svg\" height=\"24px\" viewBox=\"0 -960 960 960\">\n",
              "    <path d=\"M120-120v-720h720v720H120Zm60-500h600v-160H180v160Zm220 220h160v-160H400v160Zm0 220h160v-160H400v160ZM180-400h160v-160H180v160Zm440 0h160v-160H620v160ZM180-180h160v-160H180v160Zm440 0h160v-160H620v160Z\"/>\n",
              "  </svg>\n",
              "    </button>\n",
              "\n",
              "  <style>\n",
              "    .colab-df-container {\n",
              "      display:flex;\n",
              "      gap: 12px;\n",
              "    }\n",
              "\n",
              "    .colab-df-convert {\n",
              "      background-color: #E8F0FE;\n",
              "      border: none;\n",
              "      border-radius: 50%;\n",
              "      cursor: pointer;\n",
              "      display: none;\n",
              "      fill: #1967D2;\n",
              "      height: 32px;\n",
              "      padding: 0 0 0 0;\n",
              "      width: 32px;\n",
              "    }\n",
              "\n",
              "    .colab-df-convert:hover {\n",
              "      background-color: #E2EBFA;\n",
              "      box-shadow: 0px 1px 2px rgba(60, 64, 67, 0.3), 0px 1px 3px 1px rgba(60, 64, 67, 0.15);\n",
              "      fill: #174EA6;\n",
              "    }\n",
              "\n",
              "    .colab-df-buttons div {\n",
              "      margin-bottom: 4px;\n",
              "    }\n",
              "\n",
              "    [theme=dark] .colab-df-convert {\n",
              "      background-color: #3B4455;\n",
              "      fill: #D2E3FC;\n",
              "    }\n",
              "\n",
              "    [theme=dark] .colab-df-convert:hover {\n",
              "      background-color: #434B5C;\n",
              "      box-shadow: 0px 1px 3px 1px rgba(0, 0, 0, 0.15);\n",
              "      filter: drop-shadow(0px 1px 2px rgba(0, 0, 0, 0.3));\n",
              "      fill: #FFFFFF;\n",
              "    }\n",
              "  </style>\n",
              "\n",
              "    <script>\n",
              "      const buttonEl =\n",
              "        document.querySelector('#df-e89b1439-9d77-49ab-8b10-55ce9b4cc31c button.colab-df-convert');\n",
              "      buttonEl.style.display =\n",
              "        google.colab.kernel.accessAllowed ? 'block' : 'none';\n",
              "\n",
              "      async function convertToInteractive(key) {\n",
              "        const element = document.querySelector('#df-e89b1439-9d77-49ab-8b10-55ce9b4cc31c');\n",
              "        const dataTable =\n",
              "          await google.colab.kernel.invokeFunction('convertToInteractive',\n",
              "                                                    [key], {});\n",
              "        if (!dataTable) return;\n",
              "\n",
              "        const docLinkHtml = 'Like what you see? Visit the ' +\n",
              "          '<a target=\"_blank\" href=https://colab.research.google.com/notebooks/data_table.ipynb>data table notebook</a>'\n",
              "          + ' to learn more about interactive tables.';\n",
              "        element.innerHTML = '';\n",
              "        dataTable['output_type'] = 'display_data';\n",
              "        await google.colab.output.renderOutput(dataTable, element);\n",
              "        const docLink = document.createElement('div');\n",
              "        docLink.innerHTML = docLinkHtml;\n",
              "        element.appendChild(docLink);\n",
              "      }\n",
              "    </script>\n",
              "  </div>\n",
              "\n",
              "\n",
              "<div id=\"df-3543bf66-8f46-49e2-8a6b-c6695540933c\">\n",
              "  <button class=\"colab-df-quickchart\" onclick=\"quickchart('df-3543bf66-8f46-49e2-8a6b-c6695540933c')\"\n",
              "            title=\"Suggest charts\"\n",
              "            style=\"display:none;\">\n",
              "\n",
              "<svg xmlns=\"http://www.w3.org/2000/svg\" height=\"24px\"viewBox=\"0 0 24 24\"\n",
              "     width=\"24px\">\n",
              "    <g>\n",
              "        <path d=\"M19 3H5c-1.1 0-2 .9-2 2v14c0 1.1.9 2 2 2h14c1.1 0 2-.9 2-2V5c0-1.1-.9-2-2-2zM9 17H7v-7h2v7zm4 0h-2V7h2v10zm4 0h-2v-4h2v4z\"/>\n",
              "    </g>\n",
              "</svg>\n",
              "  </button>\n",
              "\n",
              "<style>\n",
              "  .colab-df-quickchart {\n",
              "      --bg-color: #E8F0FE;\n",
              "      --fill-color: #1967D2;\n",
              "      --hover-bg-color: #E2EBFA;\n",
              "      --hover-fill-color: #174EA6;\n",
              "      --disabled-fill-color: #AAA;\n",
              "      --disabled-bg-color: #DDD;\n",
              "  }\n",
              "\n",
              "  [theme=dark] .colab-df-quickchart {\n",
              "      --bg-color: #3B4455;\n",
              "      --fill-color: #D2E3FC;\n",
              "      --hover-bg-color: #434B5C;\n",
              "      --hover-fill-color: #FFFFFF;\n",
              "      --disabled-bg-color: #3B4455;\n",
              "      --disabled-fill-color: #666;\n",
              "  }\n",
              "\n",
              "  .colab-df-quickchart {\n",
              "    background-color: var(--bg-color);\n",
              "    border: none;\n",
              "    border-radius: 50%;\n",
              "    cursor: pointer;\n",
              "    display: none;\n",
              "    fill: var(--fill-color);\n",
              "    height: 32px;\n",
              "    padding: 0;\n",
              "    width: 32px;\n",
              "  }\n",
              "\n",
              "  .colab-df-quickchart:hover {\n",
              "    background-color: var(--hover-bg-color);\n",
              "    box-shadow: 0 1px 2px rgba(60, 64, 67, 0.3), 0 1px 3px 1px rgba(60, 64, 67, 0.15);\n",
              "    fill: var(--button-hover-fill-color);\n",
              "  }\n",
              "\n",
              "  .colab-df-quickchart-complete:disabled,\n",
              "  .colab-df-quickchart-complete:disabled:hover {\n",
              "    background-color: var(--disabled-bg-color);\n",
              "    fill: var(--disabled-fill-color);\n",
              "    box-shadow: none;\n",
              "  }\n",
              "\n",
              "  .colab-df-spinner {\n",
              "    border: 2px solid var(--fill-color);\n",
              "    border-color: transparent;\n",
              "    border-bottom-color: var(--fill-color);\n",
              "    animation:\n",
              "      spin 1s steps(1) infinite;\n",
              "  }\n",
              "\n",
              "  @keyframes spin {\n",
              "    0% {\n",
              "      border-color: transparent;\n",
              "      border-bottom-color: var(--fill-color);\n",
              "      border-left-color: var(--fill-color);\n",
              "    }\n",
              "    20% {\n",
              "      border-color: transparent;\n",
              "      border-left-color: var(--fill-color);\n",
              "      border-top-color: var(--fill-color);\n",
              "    }\n",
              "    30% {\n",
              "      border-color: transparent;\n",
              "      border-left-color: var(--fill-color);\n",
              "      border-top-color: var(--fill-color);\n",
              "      border-right-color: var(--fill-color);\n",
              "    }\n",
              "    40% {\n",
              "      border-color: transparent;\n",
              "      border-right-color: var(--fill-color);\n",
              "      border-top-color: var(--fill-color);\n",
              "    }\n",
              "    60% {\n",
              "      border-color: transparent;\n",
              "      border-right-color: var(--fill-color);\n",
              "    }\n",
              "    80% {\n",
              "      border-color: transparent;\n",
              "      border-right-color: var(--fill-color);\n",
              "      border-bottom-color: var(--fill-color);\n",
              "    }\n",
              "    90% {\n",
              "      border-color: transparent;\n",
              "      border-bottom-color: var(--fill-color);\n",
              "    }\n",
              "  }\n",
              "</style>\n",
              "\n",
              "  <script>\n",
              "    async function quickchart(key) {\n",
              "      const quickchartButtonEl =\n",
              "        document.querySelector('#' + key + ' button');\n",
              "      quickchartButtonEl.disabled = true;  // To prevent multiple clicks.\n",
              "      quickchartButtonEl.classList.add('colab-df-spinner');\n",
              "      try {\n",
              "        const charts = await google.colab.kernel.invokeFunction(\n",
              "            'suggestCharts', [key], {});\n",
              "      } catch (error) {\n",
              "        console.error('Error during call to suggestCharts:', error);\n",
              "      }\n",
              "      quickchartButtonEl.classList.remove('colab-df-spinner');\n",
              "      quickchartButtonEl.classList.add('colab-df-quickchart-complete');\n",
              "    }\n",
              "    (() => {\n",
              "      let quickchartButtonEl =\n",
              "        document.querySelector('#df-3543bf66-8f46-49e2-8a6b-c6695540933c button');\n",
              "      quickchartButtonEl.style.display =\n",
              "        google.colab.kernel.accessAllowed ? 'block' : 'none';\n",
              "    })();\n",
              "  </script>\n",
              "</div>\n",
              "\n",
              "    </div>\n",
              "  </div>\n"
            ],
            "application/vnd.google.colaboratory.intrinsic+json": {
              "type": "dataframe",
              "variable_name": "df"
            }
          },
          "metadata": {},
          "execution_count": 2
        }
      ],
      "source": [
        "df = pd.read_csv('/content/gdrive/MyDrive/Colab Notebooks/A.ing/AI vs. Human/AI_Human.csv')\n",
        "print(df.shape)\n",
        "df.head()"
      ]
    },
    {
      "cell_type": "markdown",
      "source": [
        "## Del 데이터"
      ],
      "metadata": {
        "id": "OP1ia_tNb0lD"
      }
    },
    {
      "cell_type": "code",
      "execution_count": null,
      "metadata": {
        "id": "e9ORtTd7QYI8"
      },
      "outputs": [],
      "source": [
        "from sklearn.model_selection import train_test_split\n",
        "\n",
        "# 전체 데이터 중 0.005%만 사용\n",
        "df2, df = train_test_split(df, test_size=0.005, random_state=42)\n",
        "del df2"
      ]
    },
    {
      "cell_type": "code",
      "execution_count": null,
      "metadata": {
        "colab": {
          "base_uri": "https://localhost:8080/"
        },
        "id": "eeTRPhptQlT-",
        "outputId": "6b86c3a9-7987-4542-c8d6-8c4cd0c19994"
      },
      "outputs": [
        {
          "output_type": "stream",
          "name": "stdout",
          "text": [
            "(2437, 2)\n",
            "1507\n",
            "930\n"
          ]
        }
      ],
      "source": [
        "print(df.shape)\n",
        "print(df['generated'].value_counts()[0])\n",
        "print(df['generated'].value_counts()[1])"
      ]
    },
    {
      "cell_type": "markdown",
      "source": [
        "# Train Data / Validation Data"
      ],
      "metadata": {
        "id": "5-8j9Oc9ce5Z"
      }
    },
    {
      "cell_type": "code",
      "execution_count": null,
      "metadata": {
        "colab": {
          "base_uri": "https://localhost:8080/"
        },
        "id": "tL-qyWcAjMEB",
        "outputId": "5c3d9ad2-c521-4d43-9ee8-e5d5f1b44b67"
      },
      "outputs": [
        {
          "output_type": "stream",
          "name": "stdout",
          "text": [
            "Training set size: 1949\n",
            "Validation set size: 488\n"
          ]
        }
      ],
      "source": [
        "from sklearn.model_selection import train_test_split\n",
        "\n",
        "# train data와 validation data 나눔.\n",
        "train_df, valid_df = train_test_split(df, test_size=0.2, random_state=42)  # validataion data 0.2% 사용\n",
        "\n",
        "print(\"Training set size:\", len(train_df))\n",
        "print(\"Validation set size:\", len(valid_df))"
      ]
    },
    {
      "cell_type": "markdown",
      "source": [
        "# Text 전처리\n",
        "\n",
        "텍스트 데이터를 숫자 시퀀스로 변환하여 입력 데이터로 사용하는 과정."
      ],
      "metadata": {
        "id": "SmWBmDnGcue6"
      }
    },
    {
      "cell_type": "code",
      "execution_count": null,
      "metadata": {
        "id": "1eooAPpRjMEC"
      },
      "outputs": [],
      "source": [
        "from collections import Counter\n",
        "from keras.preprocessing.sequence import pad_sequences\n",
        "\n",
        "# 단어 빈도수 계산 및 단어 사전 생성\n",
        "word_count = Counter()\n",
        "for text in train_df['text']:\n",
        "    for word in text.split():\n",
        "        word_count[word] += 1\n",
        "\n",
        "# 단어 사전 생성 (단어를 인덱스 매핑)\n",
        "vocabulary = {word: i+1 for i, word in enumerate(word_count)}  # start indexing from 1\n",
        "vocab_size = len(vocabulary) + 1  # plus one for padding\n",
        "\n",
        "# 토큰화\n",
        "def tokenize(texts, vocab, max_length):\n",
        "    sequences = [[vocab[word] for word in text.split() if word in vocab] for text in texts]\n",
        "    padded_sequences = pad_sequences(sequences, maxlen=max_length, padding='post')\n",
        "    return padded_sequences\n",
        "\n",
        "# train/validatain text 데이터 토큰화\n",
        "max_length = 100  # Adjust based on your dataset\n",
        "X_train = tokenize(train_df['text'], vocabulary, max_length)\n",
        "X_valid = tokenize(valid_df['text'], vocabulary, max_length)\n"
      ]
    },
    {
      "cell_type": "markdown",
      "source": [
        "# DataSet 정의"
      ],
      "metadata": {
        "id": "sH-bfHx1dT5S"
      }
    },
    {
      "cell_type": "code",
      "execution_count": null,
      "metadata": {
        "id": "aCZGN9KfjMEC"
      },
      "outputs": [],
      "source": [
        "import torch\n",
        "from torch.utils.data import Dataset\n",
        "\n",
        "class TextDataset(Dataset):\n",
        "    def __init__(self, X, y):\n",
        "        self.X = torch.tensor(X, dtype=torch.long)\n",
        "        self.y = torch.tensor(y, dtype=torch.float32)\n",
        "\n",
        "    def __len__(self):\n",
        "        return len(self.X)\n",
        "\n",
        "    def __getitem__(self, idx):\n",
        "        return self.X[idx], self.y[idx]"
      ]
    },
    {
      "cell_type": "code",
      "source": [
        "train_dataset = TextDataset(X_train, train_df['generated'].values)\n",
        "valid_dataset = TextDataset(X_valid, valid_df['generated'].values)"
      ],
      "metadata": {
        "id": "dtxOkQR_aWTt"
      },
      "execution_count": null,
      "outputs": []
    },
    {
      "cell_type": "markdown",
      "source": [
        "# DataLoader 생성"
      ],
      "metadata": {
        "id": "G_cWZ_DOdW3f"
      }
    },
    {
      "cell_type": "code",
      "execution_count": null,
      "metadata": {
        "id": "diCcCJmcal8R"
      },
      "outputs": [],
      "source": [
        "from torch.utils.data import DataLoader\n",
        "\n",
        "train_loader = DataLoader(\n",
        "    dataset = train_dataset,\n",
        "    batch_size = 64,\n",
        "    shuffle = True,\n",
        "    drop_last = True\n",
        ")\n",
        "\n",
        "valid_loader = DataLoader(\n",
        "    dataset = valid_dataset,\n",
        "    batch_size = 16,\n",
        "    shuffle = False,\n",
        "    drop_last = True\n",
        ")"
      ]
    },
    {
      "cell_type": "markdown",
      "source": [
        "# 모델 정의\n",
        "\n"
      ],
      "metadata": {
        "id": "kmO8dfNmdbjY"
      }
    },
    {
      "cell_type": "code",
      "execution_count": null,
      "metadata": {
        "id": "8hh3N2_bjMED"
      },
      "outputs": [],
      "source": [
        "import torch.nn as nn\n",
        "\n",
        "# model = TextClassifier(vocab_size=vocab_size, embedding_dim=100, hidden_dim=128, output_dim=1)\n",
        "class TextClassifier(nn.Module):\n",
        "    def __init__(self, vocab_size, embedding_dim, hidden_dim, output_dim):\n",
        "        super(TextClassifier, self).__init__()\n",
        "        self.embedding = nn.Embedding(vocab_size, embedding_dim)   # 임베딩 벡터로 변환\n",
        "        self.fc1 = nn.Linear(embedding_dim, hidden_dim)\n",
        "        self.relu = nn.ReLU()\n",
        "        self.fc2 = nn.Linear(hidden_dim, output_dim)\n",
        "        self.sigmoid = nn.Sigmoid()\n",
        "\n",
        "    def forward(self, text):\n",
        "        embedded = self.embedding(text).mean(dim=1)  # Mean across the sequence length\n",
        "        hidden = self.relu(self.fc1(embedded))\n",
        "        output = self.fc2(hidden)\n",
        "        return self.sigmoid(output)\n",
        "\n"
      ]
    },
    {
      "cell_type": "code",
      "source": [
        "text, label = next(iter(train_loader))\n",
        "model = TextClassifier(vocab_size=vocab_size, embedding_dim=100, hidden_dim=128, output_dim=1)\n",
        "print(f'{text.shape=}')\n",
        "tmp = model(text)\n",
        "print(f'{tmp.shape=}')"
      ],
      "metadata": {
        "colab": {
          "base_uri": "https://localhost:8080/"
        },
        "id": "F8ZJYYlR6Kcs",
        "outputId": "b7c045ce-4810-4c8c-b9da-35f5d32cc962"
      },
      "execution_count": null,
      "outputs": [
        {
          "output_type": "stream",
          "name": "stdout",
          "text": [
            "text.shape=torch.Size([64, 100])\n",
            "tmp.shape=torch.Size([64, 1])\n"
          ]
        }
      ]
    },
    {
      "cell_type": "code",
      "source": [
        "# 모델의 각 계층의 이름과 해당 계층의 파라미터 출력\n",
        "for params in model.named_parameters():\n",
        "    print(params)"
      ],
      "metadata": {
        "colab": {
          "base_uri": "https://localhost:8080/"
        },
        "id": "WosryBch6ehM",
        "outputId": "ef68db26-5da1-4bf9-ba48-7c9893c4ae5a"
      },
      "execution_count": null,
      "outputs": [
        {
          "output_type": "stream",
          "name": "stdout",
          "text": [
            "('embedding.weight', Parameter containing:\n",
            "tensor([[-2.0862,  1.4601,  0.4903,  ..., -0.5283, -1.7138, -0.1721],\n",
            "        [-1.5968, -1.0660, -0.6163,  ...,  0.0851, -2.1305,  0.7106],\n",
            "        [-1.3472, -0.0711,  0.7627,  ..., -0.2059,  1.4581, -0.1643],\n",
            "        ...,\n",
            "        [ 0.1233, -0.7018,  0.0596,  ...,  1.6154, -0.0937,  0.9960],\n",
            "        [-0.5179, -0.2898,  1.8942,  ...,  1.3555, -1.0270,  1.2828],\n",
            "        [ 1.0428, -0.6278, -0.1279,  ..., -1.2330, -1.3371,  0.3977]],\n",
            "       requires_grad=True))\n",
            "('fc1.weight', Parameter containing:\n",
            "tensor([[-0.0667, -0.0563,  0.0633,  ..., -0.0252, -0.0110,  0.0584],\n",
            "        [ 0.0412, -0.0687,  0.0051,  ..., -0.0148, -0.0831,  0.0240],\n",
            "        [ 0.0679, -0.0186, -0.0948,  ...,  0.0132,  0.0067,  0.0073],\n",
            "        ...,\n",
            "        [ 0.0167,  0.0981,  0.0059,  ..., -0.0960,  0.0038, -0.0827],\n",
            "        [ 0.0665,  0.0469, -0.0692,  ...,  0.0502, -0.0681,  0.0275],\n",
            "        [ 0.0552, -0.0148,  0.0821,  ..., -0.0475,  0.0309,  0.0164]],\n",
            "       requires_grad=True))\n",
            "('fc1.bias', Parameter containing:\n",
            "tensor([-0.0888,  0.0628,  0.0984, -0.0339,  0.0498, -0.0654,  0.0654,  0.0529,\n",
            "        -0.0808,  0.0613,  0.0739, -0.0377, -0.0212, -0.0438, -0.0327,  0.0144,\n",
            "        -0.0167,  0.0065,  0.0005,  0.0784,  0.0855, -0.0094, -0.0272,  0.0539,\n",
            "        -0.0258, -0.0885, -0.0520,  0.0697,  0.0979,  0.0242, -0.0369, -0.0256,\n",
            "         0.0617, -0.0674,  0.0969,  0.0128, -0.0216,  0.0574,  0.0873,  0.0756,\n",
            "         0.0179, -0.0331,  0.0885, -0.0746,  0.0049, -0.0992, -0.0119, -0.0388,\n",
            "        -0.0705,  0.0182, -0.0705, -0.0014, -0.0299, -0.0021, -0.0673,  0.0349,\n",
            "        -0.0713, -0.0718,  0.0625, -0.0270,  0.0772, -0.0231,  0.0389,  0.0220,\n",
            "        -0.0138,  0.0510,  0.0167,  0.0018, -0.0678,  0.0184,  0.0901,  0.0375,\n",
            "         0.0595, -0.0824, -0.0798, -0.0390, -0.0841,  0.0980,  0.0860,  0.0867,\n",
            "        -0.0312, -0.0041, -0.0566,  0.0015,  0.0683,  0.0003, -0.0456, -0.0502,\n",
            "        -0.0894,  0.0304,  0.0081, -0.0379,  0.0867, -0.0579,  0.0718, -0.0237,\n",
            "         0.0553,  0.0090,  0.0551,  0.0097, -0.0522, -0.0049,  0.0527,  0.0265,\n",
            "        -0.0004,  0.0441,  0.0580, -0.0122, -0.0843,  0.0613, -0.0377, -0.0586,\n",
            "        -0.0773,  0.0176, -0.0967,  0.0954,  0.0137,  0.0764, -0.0567,  0.0124,\n",
            "         0.0210, -0.0901,  0.0468,  0.0673,  0.0203, -0.0468,  0.0515, -0.0219],\n",
            "       requires_grad=True))\n",
            "('fc2.weight', Parameter containing:\n",
            "tensor([[-0.0601,  0.0178, -0.0115, -0.0094,  0.0164, -0.0636, -0.0540,  0.0093,\n",
            "          0.0583,  0.0499,  0.0123, -0.0350,  0.0851, -0.0702, -0.0161, -0.0027,\n",
            "         -0.0015, -0.0625, -0.0472, -0.0101,  0.0820, -0.0574,  0.0439,  0.0662,\n",
            "          0.0379, -0.0176, -0.0359, -0.0366,  0.0571, -0.0842,  0.0372, -0.0047,\n",
            "          0.0300, -0.0866,  0.0435, -0.0077, -0.0757,  0.0095,  0.0224, -0.0817,\n",
            "         -0.0593, -0.0229,  0.0177,  0.0573,  0.0323,  0.0881,  0.0421,  0.0491,\n",
            "          0.0883, -0.0710, -0.0474, -0.0512, -0.0147, -0.0118,  0.0629, -0.0042,\n",
            "          0.0105, -0.0631,  0.0029, -0.0089, -0.0659,  0.0878,  0.0461,  0.0708,\n",
            "         -0.0354,  0.0561, -0.0598,  0.0424, -0.0439,  0.0064,  0.0590,  0.0694,\n",
            "          0.0053, -0.0735, -0.0035,  0.0211, -0.0442,  0.0674,  0.0836,  0.0495,\n",
            "          0.0350, -0.0567, -0.0626,  0.0262,  0.0055,  0.0770,  0.0223,  0.0609,\n",
            "         -0.0378,  0.0599,  0.0838,  0.0843,  0.0643,  0.0767,  0.0044,  0.0312,\n",
            "         -0.0324, -0.0298, -0.0853,  0.0214,  0.0619, -0.0687,  0.0809,  0.0364,\n",
            "         -0.0655, -0.0016, -0.0161,  0.0624,  0.0477,  0.0615, -0.0231, -0.0677,\n",
            "         -0.0232,  0.0878, -0.0399,  0.0560,  0.0861,  0.0784, -0.0826, -0.0330,\n",
            "         -0.0075, -0.0567, -0.0432, -0.0759, -0.0143, -0.0498, -0.0228, -0.0738]],\n",
            "       requires_grad=True))\n",
            "('fc2.bias', Parameter containing:\n",
            "tensor([-0.0443], requires_grad=True))\n"
          ]
        }
      ]
    },
    {
      "cell_type": "markdown",
      "source": [
        "# Train 정의"
      ],
      "metadata": {
        "id": "i1P2jHyKdiXF"
      }
    },
    {
      "cell_type": "code",
      "execution_count": null,
      "metadata": {
        "id": "OD4OHGhPjMED"
      },
      "outputs": [],
      "source": [
        "optimizer = torch.optim.Adam(model.parameters(), lr=0.001)\n",
        "criterion = nn.BCELoss()\n",
        "\n",
        "def train_loop(model, iterator, valid, optimizer, criterion, num_epochs):\n",
        "    model.train()\n",
        "    log_hist = torch.zeros([0,3])\n",
        "\n",
        "    # 에폭 수에 대해 반복\n",
        "    for epoch in range(1, num_epochs+1):\n",
        "        print(f'\\r {epoch}',end='')\n",
        "\n",
        "        # 각 배치에 대해 반복\n",
        "        for texts, labels in iterator:\n",
        "            predictions = model(texts).squeeze(1)   # 예측값 계산\n",
        "            loss = criterion(predictions, labels)   # 손실 계산\n",
        "\n",
        "            optimizer.zero_grad()\n",
        "            loss.backward()\n",
        "            optimizer.step()\n",
        "\n",
        "        # validation set에 대한 손실 계산\n",
        "        with torch.no_grad():\n",
        "            for texts, labels in valid:\n",
        "                pred = model(texts).squeeze(1)\n",
        "\n",
        "                # validation loss\n",
        "                e_loss = criterion(pred, labels)\n",
        "\n",
        "\n",
        "        tmp = torch.tensor([epoch, loss.item(), e_loss.item()])\n",
        "        log_hist = torch.concat((log_hist, tmp.reshape(1,-1)), dim=0)\n",
        "        print(f' Epoch / loss {loss.item():.4f} / val_loss {e_loss.item():.4f}')\n",
        "\n",
        "        # if epoch % 100 == 0 or epoch == 1:\n",
        "        #     tmp = torch.tensor([epoch, loss.item(), e_loss.item()]).to(log_hist.device)\n",
        "        #     log_hist = torch.concat( (log_hist, tmp.reshape(1,-1)), dim=0 )\n",
        "        #     print(f' Epoch / loss {loss.item():.4f} / val_loss {e_loss.item():.4f}')\n",
        "\n",
        "        # if epoch == num_epochs:\n",
        "        #     print(f' Epoch / loss {loss.item():.4f} / val_loss {e_loss.item():.4f}')\n",
        "\n",
        "\n",
        "    return model, log_hist"
      ]
    },
    {
      "cell_type": "markdown",
      "source": [
        "# Result"
      ],
      "metadata": {
        "id": "k9twOzhLdq_K"
      }
    },
    {
      "cell_type": "code",
      "source": [
        "# Training loop\n",
        "num_epochs = 50  # 에폭 수\n",
        "final_model, log_hist = train_loop(model, train_loader, valid_loader, optimizer, criterion, num_epochs)"
      ],
      "metadata": {
        "colab": {
          "base_uri": "https://localhost:8080/"
        },
        "id": "9GlcHUfvdpT0",
        "outputId": "cc1cc997-b7a4-47b9-c706-727f178d3782"
      },
      "execution_count": null,
      "outputs": [
        {
          "output_type": "stream",
          "name": "stdout",
          "text": [
            " 1 Epoch / loss 0.6445 / val_loss 0.6566\n",
            " 2 Epoch / loss 0.5246 / val_loss 0.5548\n",
            " 3 Epoch / loss 0.3507 / val_loss 0.4277\n",
            " 4 Epoch / loss 0.2350 / val_loss 0.3098\n",
            " 5 Epoch / loss 0.2014 / val_loss 0.2014\n",
            " 6 Epoch / loss 0.1911 / val_loss 0.1505\n",
            " 7 Epoch / loss 0.0950 / val_loss 0.1233\n",
            " 8 Epoch / loss 0.0830 / val_loss 0.1071\n",
            " 9 Epoch / loss 0.0702 / val_loss 0.0976\n",
            " 10 Epoch / loss 0.0798 / val_loss 0.0945\n",
            " 11 Epoch / loss 0.0443 / val_loss 0.0900\n",
            " 12 Epoch / loss 0.0127 / val_loss 0.0926\n",
            " 13 Epoch / loss 0.0063 / val_loss 0.0814\n",
            " 14 Epoch / loss 0.0072 / val_loss 0.0828\n",
            " 15 Epoch / loss 0.0328 / val_loss 0.0795\n",
            " 16 Epoch / loss 0.0034 / val_loss 0.0752\n",
            " 17 Epoch / loss 0.0034 / val_loss 0.0753\n",
            " 18 Epoch / loss 0.0043 / val_loss 0.0708\n",
            " 19 Epoch / loss 0.0034 / val_loss 0.0685\n",
            " 20 Epoch / loss 0.0012 / val_loss 0.0688\n",
            " 21 Epoch / loss 0.0021 / val_loss 0.0661\n",
            " 22 Epoch / loss 0.0026 / val_loss 0.0639\n",
            " 23 Epoch / loss 0.0026 / val_loss 0.0636\n",
            " 24 Epoch / loss 0.0015 / val_loss 0.0621\n",
            " 25 Epoch / loss 0.0015 / val_loss 0.0614\n",
            " 26 Epoch / loss 0.0010 / val_loss 0.0597\n",
            " 27 Epoch / loss 0.0007 / val_loss 0.0599\n",
            " 28 Epoch / loss 0.0013 / val_loss 0.0584\n",
            " 29 Epoch / loss 0.0008 / val_loss 0.0577\n",
            " 30 Epoch / loss 0.0008 / val_loss 0.0569\n",
            " 31 Epoch / loss 0.0008 / val_loss 0.0566\n",
            " 32 Epoch / loss 0.0008 / val_loss 0.0558\n",
            " 33 Epoch / loss 0.0002 / val_loss 0.0554\n",
            " 34 Epoch / loss 0.0004 / val_loss 0.0549\n",
            " 35 Epoch / loss 0.0003 / val_loss 0.0548\n",
            " 36 Epoch / loss 0.0004 / val_loss 0.0545\n",
            " 37 Epoch / loss 0.0007 / val_loss 0.0532\n",
            " 38 Epoch / loss 0.0002 / val_loss 0.0530\n",
            " 39 Epoch / loss 0.0003 / val_loss 0.0528\n",
            " 40 Epoch / loss 0.0003 / val_loss 0.0526\n",
            " 41 Epoch / loss 0.0003 / val_loss 0.0518\n",
            " 42 Epoch / loss 0.0004 / val_loss 0.0514\n",
            " 43 Epoch / loss 0.0003 / val_loss 0.0514\n",
            " 44 Epoch / loss 0.0002 / val_loss 0.0505\n",
            " 45 Epoch / loss 0.0003 / val_loss 0.0502\n",
            " 46 Epoch / loss 0.0005 / val_loss 0.0496\n",
            " 47 Epoch / loss 0.0002 / val_loss 0.0495\n",
            " 48 Epoch / loss 0.0002 / val_loss 0.0491\n",
            " 49 Epoch / loss 0.0002 / val_loss 0.0490\n",
            " 50 Epoch / loss 0.0002 / val_loss 0.0487\n"
          ]
        }
      ]
    },
    {
      "cell_type": "code",
      "source": [
        "# Visualization\n",
        "import matplotlib.pyplot as plt\n",
        "\n",
        "start = 0\n",
        "\n",
        "fig, axes = plt.subplots(1,1)\n",
        "axes.set_title('learning curve')\n",
        "axes.plot(log_hist.detach()[start:,0], log_hist[start:,1], label='train')\n",
        "axes.plot(log_hist.detach()[start:,0], log_hist[start:,2], label='valid')\n",
        "axes.legend()\n",
        "axes.grid()\n",
        "fig.show()"
      ],
      "metadata": {
        "colab": {
          "base_uri": "https://localhost:8080/",
          "height": 452
        },
        "id": "C1vFvw_GfUfE",
        "outputId": "3025b74d-55d9-435c-d725-85828efc8422"
      },
      "execution_count": null,
      "outputs": [
        {
          "output_type": "display_data",
          "data": {
            "text/plain": [
              "<Figure size 640x480 with 1 Axes>"
            ],
            "image/png": "[encoded data removed]"
          },
          "metadata": {}
        }
      ]
    }
  ],
  "metadata": {
    "accelerator": "GPU",
    "colab": {
      "gpuType": "T4",
      "provenance": [],
      "include_colab_link": true
    },
    "kaggle": {
      "accelerator": "tpu1vmV38",
      "dataSources": [
        {
          "datasetId": 4288635,
          "sourceId": 7379779,
          "sourceType": "datasetVersion"
        }
      ],
      "dockerImageVersionId": 30685,
      "isGpuEnabled": false,
      "isInternetEnabled": true,
      "language": "python",
      "sourceType": "notebook"
    },
    "kernelspec": {
      "display_name": "Python 3",
      "name": "python3"
    },
    "language_info": {
      "codemirror_mode": {
        "name": "ipython",
        "version": 3
      },
      "file_extension": ".py",
      "mimetype": "text/x-python",
      "name": "python",
      "nbconvert_exporter": "python",
      "pygments_lexer": "ipython3",
      "version": "3.10.14"
    }
  },
  "nbformat": 4,
  "nbformat_minor": 0
}